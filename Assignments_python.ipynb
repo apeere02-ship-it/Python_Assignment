{
  "nbformat": 4,
  "nbformat_minor": 0,
  "metadata": {
    "colab": {
      "provenance": [],
      "authorship_tag": "ABX9TyMS+NKRZBf3eLl6cwGpxgJr",
      "include_colab_link": true
    },
    "kernelspec": {
      "name": "python3",
      "display_name": "Python 3"
    },
    "language_info": {
      "name": "python"
    }
  },
  "cells": [
    {
      "cell_type": "markdown",
      "metadata": {
        "id": "view-in-github",
        "colab_type": "text"
      },
      "source": [
        "<a href=\"https://colab.research.google.com/github/apeere02-ship-it/Python_Assignment/blob/main/Assignments_python.ipynb\" target=\"_parent\"><img src=\"https://colab.research.google.com/assets/colab-badge.svg\" alt=\"Open In Colab\"/></a>"
      ]
    },
    {
      "cell_type": "code",
      "execution_count": null,
      "metadata": {
        "id": "AwdRp-PUOM2l",
        "outputId": "1aad87b6-9d20-4cbe-e0e1-f6dd5ab0ebf9",
        "colab": {
          "base_uri": "https://localhost:8080/"
        }
      },
      "outputs": [
        {
          "output_type": "stream",
          "name": "stdout",
          "text": [
            "Enter a number 6\n",
            "6×1 = 6\n",
            "6×2 = 12\n",
            "6×3 = 18\n",
            "6×4 = 24\n",
            "6×5 = 30\n",
            "6×6 = 36\n",
            "6×7 = 42\n",
            "6×8 = 48\n",
            "6×9 = 54\n",
            "6×10 = 60\n",
            "6×11 = 66\n",
            "6×12 = 72\n",
            "6×13 = 78\n",
            "6×14 = 84\n",
            "6×15 = 90\n",
            "6×16 = 96\n",
            "6×17 = 102\n",
            "6×18 = 108\n",
            "6×19 = 114\n",
            "6×20 = 120\n"
          ]
        }
      ],
      "source": [
        "\n",
        "#multiplication table\n",
        "def multiplication_table(n):\n",
        "  for i in range(1, 21):\n",
        "      print(f\"{n}×{i} = {n*i}\")\n",
        "num = int(input(\"Enter a number \"))\n",
        "multiplication_table(num)"
      ]
    },
    {
      "cell_type": "code",
      "source": [],
      "metadata": {
        "id": "VEXuqfgqfEGI"
      },
      "execution_count": null,
      "outputs": []
    },
    {
      "cell_type": "code",
      "source": [
        "\n",
        "import random\n",
        "\n",
        "def get_player_guess():\n",
        "    \"\"\"\n",
        "    Asks the player to enter a guess and handles potential errors.\n",
        "    Returns the player's guess as an integer.\n",
        "    \"\"\"\n",
        "    while True:\n",
        "        try:\n",
        "            guess = int(input(\"Guess a number between 1 and 20: \"))\n",
        "            return guess\n",
        "        except ValueError:\n",
        "            print(\"Invalid input! Please enter a whole number.\")\n",
        "\n",
        "def check_guess(secret_number, guess):\n",
        "    \"\"\"\n",
        "    Compares the player's guess to the secret number.\n",
        "    Returns True if the guess is correct, otherwise returns False.\n",
        "    \"\"\"\n",
        "    if guess < secret_number:\n",
        "        print(\"Too low! Try again.\")\n",
        "        return False\n",
        "    elif guess > secret_number:\n",
        "        print(\"Too high! Try again.\")\n",
        "        return False\n",
        "    else:\n",
        "        print(f\"You got it! The number was {secret_number}.\")\n",
        "        return True\n",
        "\n",
        "def play_game():\n",
        "    \"\"\"\n",
        "    The main function to run the guessing game.\n",
        "    \"\"\"\n",
        "    secret_number = random.randint(1, 10)\n",
        "    max_attempts = 5\n",
        "    attempts = 0\n",
        "    guessed_correctly = False\n",
        "\n",
        "    print(\"Welcome to the Guessing Game!\")\n",
        "    print(f\"You have {max_attempts} attempts to guess the number.\")\n",
        "\n",
        "    while attempts < max_attempts and not guessed_correctly:\n",
        "        attempts += 1\n",
        "        print(f\"\\nAttempt {attempts}/{max_attempts}\")\n",
        "        player_guess = get_player_guess()\n",
        "        guessed_correctly = check_guess(secret_number, player_guess)\n",
        "\n",
        "    if not guessed_correctly:\n",
        "        print(f\"\\nGame over! You ran out of attempts. The number was {secret_number}.\")\n",
        "\n",
        "# Start the game\n",
        "play_game()"
      ],
      "metadata": {
        "colab": {
          "base_uri": "https://localhost:8080/"
        },
        "id": "gj0_CU8tO0vC",
        "outputId": "6819c246-3961-4458-ffad-c0988e7a5752"
      },
      "execution_count": null,
      "outputs": [
        {
          "output_type": "stream",
          "name": "stdout",
          "text": [
            "Welcome to the Guessing Game!\n",
            "You have 5 attempts to guess the number.\n",
            "\n",
            "Attempt 1/5\n",
            "Guess a number between 1 and 20: 10\n",
            "Too high! Try again.\n",
            "\n",
            "Attempt 2/5\n",
            "Guess a number between 1 and 20: 15\n",
            "Too high! Try again.\n",
            "\n",
            "Attempt 3/5\n",
            "Guess a number between 1 and 20: 17\n",
            "Too high! Try again.\n",
            "\n",
            "Attempt 4/5\n",
            "Guess a number between 1 and 20: 13\n",
            "Too high! Try again.\n",
            "\n",
            "Attempt 5/5\n",
            "Guess a number between 1 and 20: 2\n",
            "Too high! Try again.\n",
            "\n",
            "Game over! You ran out of attempts. The number was 1.\n"
          ]
        }
      ]
    },
    {
      "cell_type": "code",
      "source": [],
      "metadata": {
        "id": "g6_9YjpRgKBL"
      },
      "execution_count": null,
      "outputs": []
    },
    {
      "cell_type": "markdown",
      "source": [
        "Assignment 3"
      ],
      "metadata": {
        "id": "yZuovoNCP1TM"
      }
    },
    {
      "cell_type": "code",
      "source": [
        "def to_lowercase(s):\n",
        "    return s.lower()\n",
        "\n",
        "# Example\n",
        "print(to_lowercase(\"Hello\"))   # Output: \"hello\"\n",
        "print(to_lowercase(\"LOVELY\"))  # Output: \"lovely\""
      ],
      "metadata": {
        "colab": {
          "base_uri": "https://localhost:8080/"
        },
        "id": "lsYscFoRP5Cn",
        "outputId": "912d782f-740f-43ed-974c-ee96d2d1e81e"
      },
      "execution_count": null,
      "outputs": [
        {
          "output_type": "stream",
          "name": "stdout",
          "text": [
            "hello\n",
            "lovely\n"
          ]
        }
      ]
    },
    {
      "cell_type": "code",
      "source": [
        "def swap_case(s):\n",
        "    return s.swapcase()\n",
        "\n",
        "# Example\n",
        "print(swap_case(\"HeLLo WoRLd\"))  # Output: \"hEllO wOrlD\""
      ],
      "metadata": {
        "colab": {
          "base_uri": "https://localhost:8080/"
        },
        "id": "-I62baL4QqGV",
        "outputId": "ca056d9c-398c-4cd8-b911-6b6f6a9900cd"
      },
      "execution_count": null,
      "outputs": [
        {
          "output_type": "stream",
          "name": "stdout",
          "text": [
            "hEllO wOrlD\n"
          ]
        }
      ]
    },
    {
      "cell_type": "code",
      "source": [
        "\n",
        "def remove_uppercase(s):\n",
        "    return ''.join(c for c in s if not c.isupper())\n",
        "\n",
        "# Example\n",
        "print(remove_uppercase(\"HelloWorld\"))  # Output: \"elloorld\""
      ],
      "metadata": {
        "colab": {
          "base_uri": "https://localhost:8080/"
        },
        "id": "fq4eMs0lQ5kq",
        "outputId": "032b3a47-bd03-4754-c4fc-04c6b6bb3c65"
      },
      "execution_count": null,
      "outputs": [
        {
          "output_type": "stream",
          "name": "stdout",
          "text": [
            "elloorld\n"
          ]
        }
      ]
    },
    {
      "cell_type": "code",
      "source": [
        "\n",
        "def count_case(s):\n",
        "    upper = sum(1 for c in s if c.isupper())\n",
        "    lower = sum(1 for c in s if c.islower())\n",
        "    return upper, lower\n",
        "\n",
        "# Example\n",
        "u, l = count_case(\"EngiNEEr\")\n",
        "print(f\"Uppercase: {u}, Lowercase: {l}\")  # Output: Uppercase: 4, Lowercase: 4"
      ],
      "metadata": {
        "colab": {
          "base_uri": "https://localhost:8080/"
        },
        "id": "PwYqbp3TRNcY",
        "outputId": "60f3785f-2cf2-4745-892c-c8fe20f3055c"
      },
      "execution_count": null,
      "outputs": [
        {
          "output_type": "stream",
          "name": "stdout",
          "text": [
            "Uppercase: 4, Lowercase: 4\n"
          ]
        }
      ]
    },
    {
      "cell_type": "code",
      "source": [
        "def remove_non_letters(s):\n",
        "    return ''.join(c for c in s if c.isalpha())\n",
        "\n",
        "# Example\n",
        "print(remove_non_letters(\"Data-Driven@2025!\"))  # Output: \"DataDriven\""
      ],
      "metadata": {
        "id": "ckE7EnoARatx",
        "colab": {
          "base_uri": "https://localhost:8080/"
        },
        "outputId": "a1546773-6466-4527-d9ee-fff729fdf0de"
      },
      "execution_count": null,
      "outputs": [
        {
          "output_type": "stream",
          "name": "stdout",
          "text": [
            "DataDriven\n"
          ]
        }
      ]
    },
    {
      "cell_type": "code",
      "source": [
        "\n",
        "import math\n",
        "\n",
        "def triangle_area(a, b, c):\n",
        "    s = (a + b + c) / 2\n",
        "    area = math.sqrt(s * (s - a) * (s - b) * (s - c))\n",
        "    return area\n",
        "\n",
        "# Example\n",
        "print(triangle_area(3, 4, 5))  # Output: 6.0"
      ],
      "metadata": {
        "id": "_AFIJhY8Ri0m",
        "colab": {
          "base_uri": "https://localhost:8080/"
        },
        "outputId": "f282d803-61a8-45b0-eb53-1bb891943ef3"
      },
      "execution_count": null,
      "outputs": [
        {
          "output_type": "stream",
          "name": "stdout",
          "text": [
            "6.0\n"
          ]
        }
      ]
    },
    {
      "cell_type": "code",
      "source": [
        "\n",
        "import math\n",
        "\n",
        "def triangle_area(a, b, c):\n",
        "    s = (a + b + c) / 2\n",
        "    area = math.sqrt(s * (s - a) * (s - b) * (s - c))\n",
        "    return area\n",
        "\n",
        "# Example\n",
        "print(triangle_area(3, 4, 5))  # Output: 6.0"
      ],
      "metadata": {
        "colab": {
          "base_uri": "https://localhost:8080/"
        },
        "id": "aGNUsN10Rv4U",
        "outputId": "d380b242-4aa1-4f8a-cc4b-3ec168dbd6d8"
      },
      "execution_count": null,
      "outputs": [
        {
          "output_type": "stream",
          "name": "stdout",
          "text": [
            "6.0\n"
          ]
        }
      ]
    },
    {
      "cell_type": "code",
      "source": [
        "\n",
        "import string\n",
        "\n",
        "def clean_string(s):\n",
        "    s = s.strip()\n",
        "    s = ''.join(c for c in s if c not in string.punctuation)\n",
        "    s = s.replace(\" \", \"\")\n",
        "    return s\n",
        "\n",
        "# Example\n",
        "print(clean_string(\"   Hello, World!    \"))  # Output: \"HelloWorld\""
      ],
      "metadata": {
        "colab": {
          "base_uri": "https://localhost:8080/"
        },
        "id": "mhHoZyzEWNzc",
        "outputId": "2a3d44a7-798e-43d0-e646-dbe37ca32fb2"
      },
      "execution_count": null,
      "outputs": [
        {
          "output_type": "stream",
          "name": "stdout",
          "text": [
            "HelloWorld\n"
          ]
        }
      ]
    },
    {
      "cell_type": "markdown",
      "source": [
        "Assignment 1"
      ],
      "metadata": {
        "id": "K6wOiraIXr2d"
      }
    },
    {
      "cell_type": "code",
      "source": [],
      "metadata": {
        "id": "iAiq_I-3XuG-"
      },
      "execution_count": null,
      "outputs": []
    },
    {
      "cell_type": "code",
      "source": [
        "\n",
        "# Create variables of different types\n",
        "my_int = 10\n",
        "my_float = 3.14\n",
        "my_string = \"Hello, Python!\"\n",
        "my_bool = True\n",
        "\n",
        "# Print each variable with its type\n",
        "print(my_int, type(my_int))\n",
        "print(my_float, type(my_float))\n",
        "print(my_string, type(my_string))\n",
        "print(my_bool, type(my_bool))"
      ],
      "metadata": {
        "colab": {
          "base_uri": "https://localhost:8080/"
        },
        "id": "et8VByjnX620",
        "outputId": "d325dd51-22a4-43ca-bd67-8f56b8dac9cc"
      },
      "execution_count": null,
      "outputs": [
        {
          "output_type": "stream",
          "name": "stdout",
          "text": [
            "10 <class 'int'>\n",
            "3.14 <class 'float'>\n",
            "Hello, Python! <class 'str'>\n",
            "True <class 'bool'>\n"
          ]
        }
      ]
    },
    {
      "cell_type": "code",
      "source": [
        "\n",
        "# a. Convert float 19.99 to integer\n",
        "num_float = 19.99\n",
        "num_int = int(num_float)\n",
        "print(num_int, type(num_int))\n",
        "\n",
        "# b. Convert integer 50 to string\n",
        "num = 50\n",
        "num_str = str(num)\n",
        "print(num_str, type(num_str))\n",
        "\n",
        "# c. Convert string \"50\" to float\n",
        "str_num = \"50\"\n",
        "float_num = float(str_num)\n",
        "print(float_num, type(float_num))"
      ],
      "metadata": {
        "colab": {
          "base_uri": "https://localhost:8080/"
        },
        "id": "1L7iOl8UYR75",
        "outputId": "4b0e2dac-8c91-4818-c72f-2599d1b81fac"
      },
      "execution_count": null,
      "outputs": [
        {
          "output_type": "stream",
          "name": "stdout",
          "text": [
            "19 <class 'int'>\n",
            "50 <class 'str'>\n",
            "50.0 <class 'float'>\n"
          ]
        }
      ]
    },
    {
      "cell_type": "code",
      "source": [
        "\n",
        "# Ask for favorite word and number of repetitions\n",
        "word = input(\"Enter your favorite word: \")\n",
        "times = int(input(\"How many times should I repeat it? \"))\n",
        "\n",
        "# Print the word that many times, separated by spaces\n",
        "print((word + \" \") * times)"
      ],
      "metadata": {
        "id": "RS3BJphGYiKY"
      },
      "execution_count": null,
      "outputs": []
    },
    {
      "cell_type": "code",
      "source": [
        "\n",
        "# Given code\n",
        "age = 20\n",
        "\n",
        "# a. Fix the error\n",
        "print(\"You are \" + str(age) + \" years old.\")\n",
        "\n",
        "# b. Why does the error occur?\n",
        "# Because you cannot concatenate a string and an integer directly.\n",
        "# You must convert the integer to a string using str()."
      ],
      "metadata": {
        "id": "byXANEyzYcOe",
        "colab": {
          "base_uri": "https://localhost:8080/"
        },
        "outputId": "093822e7-feee-4688-ae5b-8a96d4278d68"
      },
      "execution_count": null,
      "outputs": [
        {
          "output_type": "stream",
          "name": "stdout",
          "text": [
            "You are 20 years old.\n"
          ]
        }
      ]
    },
    {
      "cell_type": "code",
      "source": [
        "#Assignment 4\n",
        "import math\n",
        "\n",
        "# Base class for any drilling formula\n",
        "class DrillingFormula:\n",
        "    def calculate(self):\n",
        "        raise NotImplementedError(\"This method should be overridden in subclasses\")\n",
        "\n",
        "\n",
        "class HydrostaticPressure(DrillingFormula):\n",
        "    def __init__(self, mud_weight, tvd):\n",
        "        self.mw = mud_weight\n",
        "        self.tvd = tvd\n",
        "\n",
        "    def calculate(self):\n",
        "        return 0.052 * self.mw * self.tvd\n",
        "\n",
        "\n",
        "class AnnularVelocity(DrillingFormula):\n",
        "    def __init__(self, flow_rate, casing_id, pipe_od):\n",
        "        self.q = flow_rate\n",
        "        self.id = casing_id\n",
        "        self.od = pipe_od\n",
        "\n",
        "    def calculate(self):\n",
        "        if self.id <= self.od:\n",
        "            raise ValueError(\"Casing ID must be larger than pipe OD\")\n",
        "        return (24.5 * self.q) / (self.id**2 - self.od**2)\n",
        "\n",
        "\n",
        "class PumpOutput(DrillingFormula):\n",
        "    def __init__(self, liner_diameter, stroke_length):\n",
        "        self.d = liner_diameter\n",
        "        self.s = stroke_length\n",
        "\n",
        "    def calculate(self):\n",
        "        return (math.pi * self.d**2 * self.s) / 4\n",
        "\n",
        "\n",
        "class PumpFlowRate(DrillingFormula):\n",
        "    def __init__(self, pump_output, strokes_per_min):\n",
        "        self.po = pump_output\n",
        "        self.n = strokes_per_min\n",
        "\n",
        "    def calculate(self):\n",
        "        return self.po * self.n\n",
        "\n",
        "\n",
        "class EquivalentCirculatingDensity(DrillingFormula):\n",
        "    def __init__(self, mud_weight, circulating_pressure, tvd):\n",
        "        self.mw = mud_weight\n",
        "        self.pc = circulating_pressure\n",
        "        self.tvd = tvd\n",
        "\n",
        "    def calculate(self):\n",
        "        if self.tvd == 0:\n",
        "            raise ZeroDivisionError(\"TVD cannot be zero\")\n",
        "        return self.mw + (self.pc / (0.052 * self.tvd))\n",
        "\n",
        "\n",
        "class PressureLoss(DrillingFormula):\n",
        "    def __init__(self, friction_factor, length, diameter, density, velocity):\n",
        "        self.f = friction_factor\n",
        "        self.l = length\n",
        "        self.d = diameter\n",
        "        self.rho = density\n",
        "        self.v = velocity\n",
        "\n",
        "    def calculate(self):\n",
        "        if self.d == 0:\n",
        "            raise ZeroDivisionError(\"Diameter cannot be zero\")\n",
        "        return self.f * (self.l / self.d) * (self.rho * self.v**2 / 2)\n",
        "\n",
        "\n",
        "# --- Demonstrate Polymorphism ---\n",
        "def calculate_formula(formula_obj):\n",
        "    # This function works with ANY subclass of DrillingFormula\n",
        "    try:\n",
        "        result = formula_obj.calculate()\n",
        "        print(f\"{formula_obj.__class__.__name__}: {result:.3f}\")\n",
        "    except Exception as e:\n",
        "        print(f\"Error in {formula_obj.__class__.__name__}: {e}\")\n",
        "\n",
        "\n",
        "# --- Main Program (Test Objects) ---\n",
        "if __name__ == \"__main__\":\n",
        "    # Create objects\n",
        "    f1 = HydrostaticPressure(mud_weight=12.5, tvd=8000)\n",
        "    f2 = AnnularVelocity(flow_rate=500, casing_id=9.0, pipe_od=5.0)\n",
        "    f3 = PumpOutput(liner_diameter=6.0, stroke_length=12.0)\n",
        "    f4 = PumpFlowRate(pump_output=5.5, strokes_per_min=120)\n",
        "    f5 = EquivalentCirculatingDensity(mud_weight=12.5, circulating_pressure=400, tvd=8000)\n",
        "    f6 = PressureLoss(friction_factor=0.02, length=5000, diameter=5, density=9.5, velocity=10)\n",
        "\n",
        "    # Run all using polymorphic function\n",
        "    formulas = [f1, f2, f3, f4, f5, f6]\n",
        "    for f in formulas:\n",
        "        calculate_formula(f)"
      ],
      "metadata": {
        "id": "ge6ovzVVfXLN",
        "colab": {
          "base_uri": "https://localhost:8080/"
        },
        "outputId": "c63c85c9-950e-4c4b-d916-241e5f7b5b41"
      },
      "execution_count": null,
      "outputs": [
        {
          "output_type": "stream",
          "name": "stdout",
          "text": [
            "HydrostaticPressure: 5200.000\n",
            "AnnularVelocity: 218.750\n",
            "PumpOutput: 339.292\n",
            "PumpFlowRate: 660.000\n",
            "EquivalentCirculatingDensity: 13.462\n",
            "PressureLoss: 9500.000\n"
          ]
        }
      ]
    },
    {
      "cell_type": "code",
      "source": [],
      "metadata": {
        "id": "OH4zYKQIlEc-"
      },
      "execution_count": null,
      "outputs": []
    }
  ]
}